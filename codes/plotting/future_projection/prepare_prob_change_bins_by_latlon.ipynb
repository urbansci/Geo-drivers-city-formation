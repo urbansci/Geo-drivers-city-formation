{
 "cells": [
  {
   "metadata": {},
   "cell_type": "markdown",
   "source": [
    "This script calculate statistics of each lat/lon bin from future urban potential prediction csv files (including ssp126, ssp370, ssp585) for figure making\n",
    "Author: Junjie Yang\n",
    "Date: 2025-03-01"
   ],
   "id": "7a5fc25ae1c82499"
  },
  {
   "cell_type": "code",
   "id": "initial_id",
   "metadata": {
    "collapsed": true,
    "ExecuteTime": {
     "end_time": "2025-05-28T14:42:22.971998Z",
     "start_time": "2025-05-28T14:42:22.969643Z"
    }
   },
   "source": [
    "import pandas as pd\n",
    "import numpy as np\n",
    "import geopandas as gpd"
   ],
   "outputs": [],
   "execution_count": 2
  },
  {
   "metadata": {},
   "cell_type": "markdown",
   "source": "1. load files",
   "id": "984f9a1ea337576b"
  },
  {
   "metadata": {
    "ExecuteTime": {
     "end_time": "2025-05-28T15:19:03.931361Z",
     "start_time": "2025-05-28T15:17:58.011410Z"
    }
   },
   "cell_type": "code",
   "source": [
    "# File paths (update with actual paths)\n",
    "csv_path_585 = \"/path/to/ssp585_prediction_csv_file\"\n",
    "csv_path_370 = \"/path/to/ssp370_prediction_csv_file\"\n",
    "csv_path_126 = \"/path/to/ssp126_prediction_csv_file\"\n",
    "shapefile_path = \"/path/to/0.05_deg_grid_shapefile\"\n",
    "\n",
    "\n",
    "# load csv files (the results of future probability predictions of all 3 scenarios)\n",
    "comparison_df_585 = pd.read_csv(csv_path_585)\n",
    "comparison_df_370 = pd.read_csv(csv_path_370)\n",
    "comparison_df_126 = pd.read_csv(csv_path_126)\n",
    "# load the global 0.05-degree grid shapefile\n",
    "gdf = gpd.read_file(shapefile_path)"
   ],
   "id": "1493b862104de97f",
   "outputs": [],
   "execution_count": 10
  },
  {
   "metadata": {},
   "cell_type": "markdown",
   "source": "2. rename columns and merge dataframes",
   "id": "c72ba6efe454cd61"
  },
  {
   "metadata": {
    "ExecuteTime": {
     "end_time": "2025-05-28T15:19:10.031860Z",
     "start_time": "2025-05-28T15:19:07.482608Z"
    }
   },
   "cell_type": "code",
   "source": [
    "# dictionary of scenario-specific DataFrames\n",
    "scenarios = {\n",
    "    '585': comparison_df_585,\n",
    "    '370': comparison_df_370,\n",
    "    '126': comparison_df_126\n",
    "}\n",
    "# define base column names to be renamed for each scenario\n",
    "base_columns = [\n",
    "    'current_probability_mean',\n",
    "    'current_probability_std',\n",
    "    'future_probability_mean',\n",
    "    'future_probability_std',\n",
    "    'probability_change_mean',\n",
    "    'probability_change_std'\n",
    "]\n",
    "# rename columns for each scenario-specific DataFrame\n",
    "for scenario, df in scenarios.items():\n",
    "    df.rename(columns={col: f\"{col}_{scenario}\" for col in base_columns}, inplace=True)\n",
    "\n",
    "# merge each scenario DataFrame into the shapefile GeoDataFrame\n",
    "gdf.rename(columns={'ID': 'id'}, inplace=True)\n",
    "for df in scenarios.values():\n",
    "    gdf = gdf.merge(df, on='id', how='inner')\n",
    "# delete \"unnamed\" columns\n",
    "gdf = gdf.loc[:, ~gdf.columns.str.contains('^Unnamed')]\n",
    "gdf = gdf.reset_index(drop=True)"
   ],
   "id": "4ce4afc5e486c06",
   "outputs": [],
   "execution_count": 11
  },
  {
   "metadata": {},
   "cell_type": "markdown",
   "source": "3. Bin the data by latitude or longitude for visualization preparation, and export it as parquet files.",
   "id": "c6c067a7e42944d5"
  },
  {
   "metadata": {},
   "cell_type": "code",
   "source": [
    "ssps = ['585', '370', '126']                # scenarios to process (default: ['585', '370', '126'])\n",
    "dims = ['longitude','latitude']             # dimensions to bin by (default: ['longitude', 'latitude'])\n",
    "bin_size = 1                                # bin size in degrees (default: 1°)\n",
    "out_dir_path = '/path/to/out_directory/'    # output directory for saving parquet files\n",
    "\n",
    "# extract centroid coordinate (longitude or latitude) from geometry\n",
    "def get_coordinate_array(gdf, dim):\n",
    "    if dim == 'longitude':\n",
    "        return np.array([geom.centroid.x for geom in gdf.geometry])\n",
    "    elif dim == 'latitude':\n",
    "        return np.array([geom.centroid.y for geom in gdf.geometry])\n",
    "    else:\n",
    "        raise ValueError(f\"Invalid dimension: {dim}\")\n",
    "\n",
    "# generate bin edges based on dimension and bin size\n",
    "def get_bins(dim, bin_size):\n",
    "    return np.arange(-180, 180 + bin_size, bin_size) if dim == 'longitude' else np.arange(-90, 90 + bin_size, bin_size)\n",
    "\n",
    "# compute binned statistics (mean, std, median, quantiles) by spatial dimension\n",
    "def compute_bin_stats(x, y, dim, bin_size):\n",
    "    df = pd.DataFrame({dim: x, 'suitability': y})\n",
    "    df[dim + '_bin'] = pd.cut(df[dim], bins=get_bins(dim, bin_size))\n",
    "\n",
    "    bin_stats = df.groupby(f'{dim}_bin')['suitability'].agg([\n",
    "        'mean', 'std', 'median',\n",
    "        lambda x: x.quantile(0.25),\n",
    "        lambda x: x.quantile(0.75)\n",
    "    ])\n",
    "    bin_stats.columns = ['mean', 'std', 'median', 'q25', 'q75']\n",
    "    # calculate midpoint and edges of each bin\n",
    "    bin_stats[dim + '_mid'] = bin_stats.index.map(lambda x: (x.left + x.right) / 2)\n",
    "    bin_stats[dim + '_left'] = bin_stats.index.map(lambda x: x.left)\n",
    "    bin_stats[dim + '_right'] = bin_stats.index.map(lambda x: x.right)\n",
    "    return bin_stats.reset_index(drop=True)\n",
    "\n",
    "# iterate over SSP scenarios and dimensions to compute and export binned stats\n",
    "for ssp in ssps:\n",
    "    for dim in dims:\n",
    "        x = get_coordinate_array(gdf, dim)\n",
    "        y = gdf[f'probability_change_mean_{ssp}'].values\n",
    "        bin_stats = compute_bin_stats(x, y, dim, bin_size)\n",
    "\n",
    "        bin_stats.to_parquet(out_dir_path + f'bin_stats_{ssp}_{dim[:3]}_bin{bin_size}.parquet')\n",
    "        print(f'[INFO] Saved {ssp} {dim} stats to: {out_dir_path}bin_stats_{ssp}_{dim[:3]}_bin{bin_size}.parquet')\n"
   ],
   "id": "6151029221610724",
   "outputs": [],
   "execution_count": null
  }
 ],
 "metadata": {
  "kernelspec": {
   "display_name": "Python 3",
   "language": "python",
   "name": "python3"
  },
  "language_info": {
   "codemirror_mode": {
    "name": "ipython",
    "version": 2
   },
   "file_extension": ".py",
   "mimetype": "text/x-python",
   "name": "python",
   "nbconvert_exporter": "python",
   "pygments_lexer": "ipython2",
   "version": "2.7.6"
  }
 },
 "nbformat": 4,
 "nbformat_minor": 5
}
